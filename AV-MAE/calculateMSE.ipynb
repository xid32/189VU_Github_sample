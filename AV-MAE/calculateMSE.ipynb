{
 "cells": [
  {
   "cell_type": "code",
   "execution_count": 24,
   "metadata": {},
   "outputs": [],
   "source": [
    "import os \n",
    "\n",
    "folders = os.listdir(\"./\")\n",
    "video_name = set([f.split(\"_\")[0] for f in folders])"
   ]
  },
  {
   "cell_type": "code",
   "execution_count": 25,
   "metadata": {},
   "outputs": [
    {
     "data": {
      "text/plain": [
       "{'ApplyEyeMakeup',\n",
       " 'ApplyLipstick',\n",
       " 'Archery',\n",
       " 'BabyCrawling',\n",
       " 'BalanceBeam',\n",
       " 'BandMarching',\n",
       " 'BlowDryHair',\n",
       " 'calculateMSE.ipynb'}"
      ]
     },
     "execution_count": 25,
     "metadata": {},
     "output_type": "execute_result"
    }
   ],
   "source": [
    "video_name"
   ]
  },
  {
   "cell_type": "code",
   "execution_count": 26,
   "metadata": {},
   "outputs": [
    {
     "data": {
      "text/plain": [
       "['ApplyEyeMakeup',\n",
       " 'ApplyLipstick',\n",
       " 'BandMarching',\n",
       " 'Archery',\n",
       " 'BabyCrawling',\n",
       " 'BalanceBeam',\n",
       " 'BlowDryHair']"
      ]
     },
     "execution_count": 26,
     "metadata": {},
     "output_type": "execute_result"
    }
   ],
   "source": [
    "video_name=list(video_name)\n",
    "video_name = video_name[1:]\n",
    "video_name "
   ]
  },
  {
   "cell_type": "code",
   "execution_count": 27,
   "metadata": {},
   "outputs": [],
   "source": [
    "import cv2\n",
    "import numpy as np\n",
    "def mse (img1, img2):\n",
    "    img1 = cv2.imread (img1, 0) # Read as grayscale\n",
    "    img2 = cv2.imread (img2, 0) # Read as grayscale\n",
    "    h, w = img1.shape # Get the height and width of the images\n",
    "    diff = cv2.subtract (img1, img2) # Find the difference between the images\n",
    "    err = np.sum (diff**2) # Square the difference and sum it up\n",
    "    mse = err / (float (h*w)) # Divide by the number of pixels\n",
    "    return mse"
   ]
  },
  {
   "cell_type": "code",
   "execution_count": 28,
   "metadata": {},
   "outputs": [],
   "source": [
    "loss_all = []\n",
    "mask_ratio = [0.2,0.4,0.6,0.8,0.9]\n",
    "\n",
    "for mr in mask_ratio:\n",
    "    loss_curmr= []\n",
    "    for vn in video_name:\n",
    "        loss = 0\n",
    "        for i in range(16):\n",
    "            base_path = vn+\"_mask_ratio_\"+str(mr)\n",
    "            recon_img = os.path.join(base_path,\"rec_img{}.jpg\".format(i))\n",
    "            ori_img = os.path.join(base_path,\"ori_img{}.jpg\".format(i))\n",
    "            loss+= mse(recon_img,ori_img)\n",
    "        loss=loss/16\n",
    "        loss_curmr.append(loss)\n",
    "    loss_all.append(np.mean(loss_curmr))"
   ]
  },
  {
   "cell_type": "code",
   "execution_count": 29,
   "metadata": {},
   "outputs": [
    {
     "data": {
      "text/plain": [
       "[4.009141215777606,\n",
       " 8.006153518187409,\n",
       " 13.25888408516308,\n",
       " 20.18313340612472,\n",
       " 24.530050828227495]"
      ]
     },
     "execution_count": 29,
     "metadata": {},
     "output_type": "execute_result"
    }
   ],
   "source": [
    "loss_all"
   ]
  },
  {
   "cell_type": "code",
   "execution_count": null,
   "metadata": {},
   "outputs": [],
   "source": []
  }
 ],
 "metadata": {
  "kernelspec": {
   "display_name": "pytorch",
   "language": "python",
   "name": "python3"
  },
  "language_info": {
   "codemirror_mode": {
    "name": "ipython",
    "version": 3
   },
   "file_extension": ".py",
   "mimetype": "text/x-python",
   "name": "python",
   "nbconvert_exporter": "python",
   "pygments_lexer": "ipython3",
   "version": "3.9.16"
  },
  "orig_nbformat": 4
 },
 "nbformat": 4,
 "nbformat_minor": 2
}
